{
 "cells": [
  {
   "cell_type": "code",
   "execution_count": 294,
   "metadata": {},
   "outputs": [],
   "source": [
    "from PIL import Image, ImageOps\n",
    "from numpy import asarray\n",
    "import os"
   ]
  },
  {
   "cell_type": "code",
   "execution_count": 295,
   "metadata": {},
   "outputs": [],
   "source": [
    "def get_pixel_difference(desired, actual):\n",
    "    difference = 0\n",
    "    for i in range(3):\n",
    "        difference = difference + abs(int(desired[i]) - int(actual[i]))\n",
    "\n",
    "    return difference"
   ]
  },
  {
   "cell_type": "code",
   "execution_count": 296,
   "metadata": {},
   "outputs": [],
   "source": [
    "def get_clorest_color(desired, palette):\n",
    "    best_color = palette[50]\n",
    "    best_error = 256*3\n",
    "    for color in palette:\n",
    "        if get_pixel_difference(desired, color) < best_error:\n",
    "            best_color = color\n",
    "            best_error = get_pixel_difference(desired, color)\n",
    "    return best_color"
   ]
  },
  {
   "cell_type": "code",
   "execution_count": 297,
   "metadata": {},
   "outputs": [],
   "source": [
    "def get_palette(colors_image, threshold = 1):\n",
    "    sorted_colors = sorted(colors_image, reverse=True, key=len)\n",
    "    output_palette = sorted_colors[0]\n",
    "    for i in range(1, threshold):\n",
    "        output_palette = output_palette + sorted_colors[i]\n",
    "\n",
    "    return output_palette"
   ]
  },
  {
   "cell_type": "code",
   "execution_count": 298,
   "metadata": {},
   "outputs": [],
   "source": [
    "palette_image = Image.open(\"palette.png\")\n",
    "palette_arrays = asarray(palette_image)\n",
    "input_image = Image.open(\"input_image.jpg\")\n",
    "image_arrays = asarray(input_image)"
   ]
  },
  {
   "cell_type": "code",
   "execution_count": 299,
   "metadata": {},
   "outputs": [],
   "source": [
    "width = input_image.width\n",
    "height = input_image.height\n",
    "'''\n",
    "width = 100\n",
    "height = 100\n",
    "'''\n",
    "new_image = Image.new(\"RGB\", (width, height), color=\"red\")\n",
    "for x in range(width):\n",
    "    for y in range(height):\n",
    "        color = tuple(get_clorest_color(image_arrays[y][x], palette_arrays[111]))\n",
    "        new_image.putpixel((x, y), color)\n",
    "\n",
    "new_image.save('output.png')\n",
    "bw_image = ImageOps.grayscale(new_image)\n",
    "bw_image.save('bw_output.png')"
   ]
  }
 ],
 "metadata": {
  "kernelspec": {
   "display_name": "Python 3.10.4 64-bit",
   "language": "python",
   "name": "python3"
  },
  "language_info": {
   "codemirror_mode": {
    "name": "ipython",
    "version": 3
   },
   "file_extension": ".py",
   "mimetype": "text/x-python",
   "name": "python",
   "nbconvert_exporter": "python",
   "pygments_lexer": "ipython3",
   "version": "3.10.4"
  },
  "orig_nbformat": 4,
  "vscode": {
   "interpreter": {
    "hash": "97cc609b13305c559618ec78a438abc56230b9381f827f22d070313b9a1f3777"
   }
  }
 },
 "nbformat": 4,
 "nbformat_minor": 2
}
