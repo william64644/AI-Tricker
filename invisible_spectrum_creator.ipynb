{
 "cells": [
  {
   "cell_type": "code",
   "execution_count": 3,
   "metadata": {},
   "outputs": [],
   "source": [
    "from PIL import Image, ImageOps\n",
    "import os"
   ]
  },
  {
   "cell_type": "code",
   "execution_count": 4,
   "metadata": {},
   "outputs": [],
   "source": [
    "def convert_to_bw(folder):\n",
    "    \"\"\"\n",
    "    Converts all images in a folder to black and white.\n",
    "    \"\"\"\n",
    "    for filename in os.listdir(folder):\n",
    "        if filename.endswith(\".png\"):\n",
    "            im = Image.open(folder + \"/\" + filename)\n",
    "            im = im.convert('L')\n",
    "            im.save(folder + \"/bw/\" + filename.split(\".\")[0] + \"_bw.png\")"
   ]
  },
  {
   "cell_type": "code",
   "execution_count": 5,
   "metadata": {},
   "outputs": [],
   "source": [
    "scale = 34"
   ]
  },
  {
   "cell_type": "code",
   "execution_count": 6,
   "metadata": {},
   "outputs": [],
   "source": [
    "# generate all possible colors in rgb, distribution depends on the scale\n",
    "def create_spectrum():\n",
    "    image = Image.new('RGB', (scale, scale), 'white')\n",
    "\n",
    "    for i in range(scale):\n",
    "        for j in range(scale):\n",
    "            for k in range(scale):\n",
    "                image.putpixel((j, k), (int(i * 256/scale), int(j * 256 / scale), int(k * 256 / scale)))\n",
    "        image.save(f'images/image_{i}.png')"
   ]
  },
  {
   "cell_type": "code",
   "execution_count": 7,
   "metadata": {},
   "outputs": [],
   "source": [
    "# get the last line of an image\n",
    "def get_last_line(image):\n",
    "    last_line = []\n",
    "    for x in range(image.size[0]):\n",
    "        last_line.append(image.getpixel((x, image.size[1] - 1)))\n",
    "    return last_line"
   ]
  },
  {
   "cell_type": "code",
   "execution_count": 8,
   "metadata": {},
   "outputs": [],
   "source": [
    "# insert an array of pixels in the specified height of an image\n",
    "def insert_line(image, line, height):\n",
    "    for x in range(image.size[0]):\n",
    "        image.putpixel((x, height), line[x])\n",
    "    return image"
   ]
  },
  {
   "cell_type": "code",
   "execution_count": 9,
   "metadata": {},
   "outputs": [],
   "source": [
    "# Returns the grayscale value of a color.\n",
    "def get_gray_scale(color):\n",
    "    return int(color[0] * 0.3 + color[1] * 0.59 + color[2] * 0.11)"
   ]
  },
  {
   "cell_type": "code",
   "execution_count": 10,
   "metadata": {},
   "outputs": [],
   "source": [
    "def get_longest_lenght(image):\n",
    "    # get the lenght of the longest line in image\n",
    "    max_len = 0\n",
    "    max_index = 0\n",
    "    for i in range(256):\n",
    "        if len(image[i]) > max_len:\n",
    "            max_len = len(image[i])\n",
    "            max_index = i\n",
    "    return (max_len, max_index)"
   ]
  },
  {
   "cell_type": "code",
   "execution_count": 17,
   "metadata": {},
   "outputs": [],
   "source": [
    "def main():\n",
    "    # generate all possible colors in rgb, splited in 256 images, each one 256x256\n",
    "    create_spectrum()\n",
    "\n",
    "    # insert the color images spectrum into an array\n",
    "    images = []\n",
    "    for i in range(scale):\n",
    "        images.append(Image.open(f'images/image_{i}.png'))\n",
    "\n",
    "    # insert all colors in the correspondent height by it's gray scale\n",
    "    main_image = [[] * scale for i in range(256)]*256\n",
    "    for image in images:\n",
    "        for x in range(image.size[0]):\n",
    "            for y in range(image.size[1]):\n",
    "                color = image.getpixel((x, y))\n",
    "                gray_scale = get_gray_scale(color)\n",
    "                main_image[gray_scale].append(color)\n",
    "\n",
    "\n",
    "    max_len = get_longest_lenght(main_image)[0]\n",
    "\n",
    "    image = Image.new('RGBA', (max_len, 256))\n",
    "    for i in range(256):\n",
    "        for j in range(len(main_image[i])):\n",
    "            image.putpixel((j, i), main_image[i][j])\n",
    "\n",
    "    image.save('palette.png')\n",
    "\n",
    "    image = ImageOps.grayscale(image)\n",
    "    image.save('palette_grayscale.png')\n"
   ]
  },
  {
   "cell_type": "code",
   "execution_count": 18,
   "metadata": {},
   "outputs": [
    {
     "name": "stdout",
     "output_type": "stream",
     "text": [
      "111\n"
     ]
    }
   ],
   "source": [
    "if __name__ == \"__main__\":\n",
    "    main()"
   ]
  }
 ],
 "metadata": {
  "interpreter": {
   "hash": "97cc609b13305c559618ec78a438abc56230b9381f827f22d070313b9a1f3777"
  },
  "kernelspec": {
   "display_name": "Python 3.10.4 64-bit",
   "language": "python",
   "name": "python3"
  },
  "language_info": {
   "codemirror_mode": {
    "name": "ipython",
    "version": 3
   },
   "file_extension": ".py",
   "mimetype": "text/x-python",
   "name": "python",
   "nbconvert_exporter": "python",
   "pygments_lexer": "ipython3",
   "version": "3.10.4"
  },
  "orig_nbformat": 4
 },
 "nbformat": 4,
 "nbformat_minor": 2
}
